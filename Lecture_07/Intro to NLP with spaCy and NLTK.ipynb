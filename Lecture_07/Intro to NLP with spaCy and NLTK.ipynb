{
 "cells": [
  {
   "cell_type": "code",
   "execution_count": 1,
   "metadata": {},
   "outputs": [],
   "source": [
    "import nltk\n",
    "import spacy\n",
    "\n",
    "nlp = spacy.load('en')"
   ]
  },
  {
   "cell_type": "code",
   "execution_count": 2,
   "metadata": {},
   "outputs": [
    {
     "name": "stdout",
     "output_type": "stream",
     "text": [
      "showing info https://raw.githubusercontent.com/nltk/nltk_data/gh-pages/index.xml\n"
     ]
    },
    {
     "data": {
      "text/plain": [
       "True"
      ]
     },
     "execution_count": 2,
     "metadata": {},
     "output_type": "execute_result"
    }
   ],
   "source": [
    "nltk.download()"
   ]
  },
  {
   "cell_type": "code",
   "execution_count": 3,
   "metadata": {},
   "outputs": [],
   "source": [
    "text = \"\"\"Each autumn, businesses flock to elite universities like Harvard and Stanford to recruit engineers for their first post-university jobs. Curious students pile into classrooms to hear recruiters deliver their best pitches. These are the first moments when prospective employees size up a company’s culture and assess whether they can see themselves reflected in its future.\"\"\""
   ]
  },
  {
   "cell_type": "markdown",
   "metadata": {},
   "source": [
    "## Tokenization"
   ]
  },
  {
   "cell_type": "markdown",
   "metadata": {},
   "source": [
    "### Sentence Tokenization"
   ]
  },
  {
   "cell_type": "markdown",
   "metadata": {},
   "source": [
    "##### Using spaCy"
   ]
  },
  {
   "cell_type": "code",
   "execution_count": 4,
   "metadata": {},
   "outputs": [],
   "source": [
    "doc = nlp(text)"
   ]
  },
  {
   "cell_type": "code",
   "execution_count": 16,
   "metadata": {},
   "outputs": [
    {
     "name": "stdout",
     "output_type": "stream",
     "text": [
      "0 <class 'spacy.tokens.span.Span'> Each autumn, businesses flock to elite universities like Harvard and Stanford to recruit engineers for their first post-university jobs. \n",
      "\n",
      "1 <class 'spacy.tokens.span.Span'> Curious students pile into classrooms to hear recruiters deliver their best pitches. \n",
      "\n",
      "2 <class 'spacy.tokens.span.Span'> These are the first moments when prospective employees size up a company’s culture and assess whether they can see themselves reflected in its future. \n",
      "\n"
     ]
    }
   ],
   "source": [
    "#sentence spans (an iterable object, like a list, of tokens) are available via the sents attribute\n",
    "for index, sent in enumerate(doc.sents):\n",
    "    print(index, type(sent), sent, '\\n')"
   ]
  },
  {
   "cell_type": "code",
   "execution_count": 13,
   "metadata": {},
   "outputs": [],
   "source": [
    "spacy_sents = list(doc.sents)"
   ]
  },
  {
   "cell_type": "markdown",
   "metadata": {},
   "source": [
    "##### Using NLTK"
   ]
  },
  {
   "cell_type": "code",
   "execution_count": 9,
   "metadata": {},
   "outputs": [],
   "source": [
    "from nltk import sent_tokenize"
   ]
  },
  {
   "cell_type": "code",
   "execution_count": 20,
   "metadata": {},
   "outputs": [
    {
     "name": "stdout",
     "output_type": "stream",
     "text": [
      "0 <class 'str'> Each autumn, businesses flock to elite universities like Harvard and Stanford to recruit engineers for their first post-university jobs. \n",
      "\n",
      "1 <class 'str'> Curious students pile into classrooms to hear recruiters deliver their best pitches. \n",
      "\n",
      "2 <class 'str'> These are the first moments when prospective employees size up a company’s culture and assess whether they can see themselves reflected in its future. \n",
      "\n"
     ]
    }
   ],
   "source": [
    "for index, sent in enumerate(sent_tokenize(text)):\n",
    "    print(index, type(sent), sent, '\\n')"
   ]
  },
  {
   "cell_type": "code",
   "execution_count": 14,
   "metadata": {},
   "outputs": [],
   "source": [
    "nltk_sents = sent_tokenize(text)"
   ]
  },
  {
   "cell_type": "markdown",
   "metadata": {},
   "source": [
    "### Word Tokenization"
   ]
  },
  {
   "cell_type": "markdown",
   "metadata": {},
   "source": [
    "##### spaCy"
   ]
  },
  {
   "cell_type": "code",
   "execution_count": 18,
   "metadata": {},
   "outputs": [
    {
     "name": "stdout",
     "output_type": "stream",
     "text": [
      "0 <class 'spacy.tokens.token.Token'> Each\n",
      "1 <class 'spacy.tokens.token.Token'> autumn\n",
      "2 <class 'spacy.tokens.token.Token'> ,\n",
      "3 <class 'spacy.tokens.token.Token'> businesses\n",
      "4 <class 'spacy.tokens.token.Token'> flock\n",
      "5 <class 'spacy.tokens.token.Token'> to\n",
      "6 <class 'spacy.tokens.token.Token'> elite\n",
      "7 <class 'spacy.tokens.token.Token'> universities\n",
      "8 <class 'spacy.tokens.token.Token'> like\n",
      "9 <class 'spacy.tokens.token.Token'> Harvard\n",
      "10 <class 'spacy.tokens.token.Token'> and\n",
      "11 <class 'spacy.tokens.token.Token'> Stanford\n",
      "12 <class 'spacy.tokens.token.Token'> to\n",
      "13 <class 'spacy.tokens.token.Token'> recruit\n",
      "14 <class 'spacy.tokens.token.Token'> engineers\n",
      "15 <class 'spacy.tokens.token.Token'> for\n",
      "16 <class 'spacy.tokens.token.Token'> their\n",
      "17 <class 'spacy.tokens.token.Token'> first\n",
      "18 <class 'spacy.tokens.token.Token'> post\n",
      "19 <class 'spacy.tokens.token.Token'> -\n",
      "20 <class 'spacy.tokens.token.Token'> university\n",
      "21 <class 'spacy.tokens.token.Token'> jobs\n",
      "22 <class 'spacy.tokens.token.Token'> .\n"
     ]
    }
   ],
   "source": [
    "for index, token in enumerate(spacy_sents[0]):\n",
    "    print(index, type(token), token)"
   ]
  },
  {
   "cell_type": "markdown",
   "metadata": {},
   "source": [
    "##### NLTK"
   ]
  },
  {
   "cell_type": "code",
   "execution_count": 19,
   "metadata": {},
   "outputs": [],
   "source": [
    "from nltk import word_tokenize"
   ]
  },
  {
   "cell_type": "code",
   "execution_count": 21,
   "metadata": {},
   "outputs": [
    {
     "name": "stdout",
     "output_type": "stream",
     "text": [
      "0 <class 'str'> Each\n",
      "1 <class 'str'> autumn\n",
      "2 <class 'str'> ,\n",
      "3 <class 'str'> businesses\n",
      "4 <class 'str'> flock\n",
      "5 <class 'str'> to\n",
      "6 <class 'str'> elite\n",
      "7 <class 'str'> universities\n",
      "8 <class 'str'> like\n",
      "9 <class 'str'> Harvard\n",
      "10 <class 'str'> and\n",
      "11 <class 'str'> Stanford\n",
      "12 <class 'str'> to\n",
      "13 <class 'str'> recruit\n",
      "14 <class 'str'> engineers\n",
      "15 <class 'str'> for\n",
      "16 <class 'str'> their\n",
      "17 <class 'str'> first\n",
      "18 <class 'str'> post-university\n",
      "19 <class 'str'> jobs\n",
      "20 <class 'str'> .\n"
     ]
    }
   ],
   "source": [
    "for index, token in enumerate(word_tokenize(nltk_sents[0])):\n",
    "    print(index, type(token), token)"
   ]
  },
  {
   "cell_type": "code",
   "execution_count": 79,
   "metadata": {},
   "outputs": [],
   "source": [
    "nltk_tokens = word_tokenize(nltk_sents[0])"
   ]
  },
  {
   "cell_type": "markdown",
   "metadata": {},
   "source": [
    "##### using Regular Expressions (regex)"
   ]
  },
  {
   "cell_type": "code",
   "execution_count": 22,
   "metadata": {},
   "outputs": [],
   "source": [
    "import re"
   ]
  },
  {
   "cell_type": "code",
   "execution_count": 74,
   "metadata": {},
   "outputs": [],
   "source": [
    "WORDS_RE = re.compile(r'\\W+')"
   ]
  },
  {
   "cell_type": "code",
   "execution_count": 75,
   "metadata": {},
   "outputs": [
    {
     "name": "stdout",
     "output_type": "stream",
     "text": [
      "0 <class 'str'> Each\n",
      "1 <class 'str'> autumn\n",
      "2 <class 'str'> businesses\n",
      "3 <class 'str'> flock\n",
      "4 <class 'str'> to\n",
      "5 <class 'str'> elite\n",
      "6 <class 'str'> universities\n",
      "7 <class 'str'> like\n",
      "8 <class 'str'> Harvard\n",
      "9 <class 'str'> and\n",
      "10 <class 'str'> Stanford\n",
      "11 <class 'str'> to\n",
      "12 <class 'str'> recruit\n",
      "13 <class 'str'> engineers\n",
      "14 <class 'str'> for\n",
      "15 <class 'str'> their\n",
      "16 <class 'str'> first\n",
      "17 <class 'str'> post\n",
      "18 <class 'str'> university\n",
      "19 <class 'str'> jobs\n",
      "20 <class 'str'> \n"
     ]
    }
   ],
   "source": [
    "for index, token in enumerate(re.split(WORDS_RE, nltk_sents[0])):\n",
    "    print(index, type(token), token)"
   ]
  },
  {
   "cell_type": "markdown",
   "metadata": {},
   "source": [
    "But we lost the punctuation and we have emtpy strings."
   ]
  },
  {
   "cell_type": "code",
   "execution_count": 76,
   "metadata": {},
   "outputs": [],
   "source": [
    "WORDS_AND_PUNCT_RE = re.compile(r'\\w+|[\\,\\.\\!\\?\\-]')"
   ]
  },
  {
   "cell_type": "code",
   "execution_count": 77,
   "metadata": {},
   "outputs": [
    {
     "name": "stdout",
     "output_type": "stream",
     "text": [
      "0 <class 'str'> Each\n",
      "1 <class 'str'> autumn\n",
      "2 <class 'str'> ,\n",
      "3 <class 'str'> businesses\n",
      "4 <class 'str'> flock\n",
      "5 <class 'str'> to\n",
      "6 <class 'str'> elite\n",
      "7 <class 'str'> universities\n",
      "8 <class 'str'> like\n",
      "9 <class 'str'> Harvard\n",
      "10 <class 'str'> and\n",
      "11 <class 'str'> Stanford\n",
      "12 <class 'str'> to\n",
      "13 <class 'str'> recruit\n",
      "14 <class 'str'> engineers\n",
      "15 <class 'str'> for\n",
      "16 <class 'str'> their\n",
      "17 <class 'str'> first\n",
      "18 <class 'str'> post\n",
      "19 <class 'str'> -\n",
      "20 <class 'str'> university\n",
      "21 <class 'str'> jobs\n",
      "22 <class 'str'> .\n"
     ]
    }
   ],
   "source": [
    "for index, token in enumerate(re.findall(WORDS_AND_PUNCT_RE, nltk_sents[0])):\n",
    "    print(index, type(token), token)"
   ]
  },
  {
   "cell_type": "markdown",
   "metadata": {},
   "source": [
    "See [this tutorial](https://www.datacamp.com/community/tutorials/python-regular-expression-tutorial) to learn more about regular expressions and visit [pythex.org](www.pythex.org) to play around."
   ]
  },
  {
   "cell_type": "markdown",
   "metadata": {},
   "source": [
    "# Part of Speech (POS) Tagging"
   ]
  },
  {
   "cell_type": "markdown",
   "metadata": {},
   "source": [
    "##### spaCy"
   ]
  },
  {
   "cell_type": "markdown",
   "metadata": {},
   "source": [
    "The best part about spaCy is it does everything for you right out of the box"
   ]
  },
  {
   "cell_type": "code",
   "execution_count": 78,
   "metadata": {},
   "outputs": [
    {
     "data": {
      "text/plain": [
       "[(Each, 'DET', 'DT'),\n",
       " (autumn, 'NOUN', 'NN'),\n",
       " (,, 'PUNCT', ','),\n",
       " (businesses, 'NOUN', 'NNS'),\n",
       " (flock, 'NOUN', 'NN'),\n",
       " (to, 'ADP', 'IN'),\n",
       " (elite, 'ADJ', 'JJ'),\n",
       " (universities, 'NOUN', 'NNS'),\n",
       " (like, 'ADP', 'IN'),\n",
       " (Harvard, 'PROPN', 'NNP'),\n",
       " (and, 'CCONJ', 'CC'),\n",
       " (Stanford, 'PROPN', 'NNP'),\n",
       " (to, 'PART', 'TO'),\n",
       " (recruit, 'VERB', 'VB'),\n",
       " (engineers, 'NOUN', 'NNS'),\n",
       " (for, 'ADP', 'IN'),\n",
       " (their, 'ADJ', 'PRP$'),\n",
       " (first, 'ADJ', 'JJ'),\n",
       " (post, 'NOUN', 'NN'),\n",
       " (-, 'PUNCT', 'HYPH'),\n",
       " (university, 'NOUN', 'NN'),\n",
       " (jobs, 'NOUN', 'NNS'),\n",
       " (., 'PUNCT', '.')]"
      ]
     },
     "execution_count": 78,
     "metadata": {},
     "output_type": "execute_result"
    }
   ],
   "source": [
    "[(t, t.pos_, t.tag_) for t in spacy_sents[0]]"
   ]
  },
  {
   "cell_type": "markdown",
   "metadata": {},
   "source": [
    "##### NLTK"
   ]
  },
  {
   "cell_type": "code",
   "execution_count": 80,
   "metadata": {},
   "outputs": [
    {
     "data": {
      "text/plain": [
       "[('Each', 'DT'),\n",
       " ('autumn', 'NN'),\n",
       " (',', ','),\n",
       " ('businesses', 'NNS'),\n",
       " ('flock', 'VBP'),\n",
       " ('to', 'TO'),\n",
       " ('elite', 'VB'),\n",
       " ('universities', 'NNS'),\n",
       " ('like', 'IN'),\n",
       " ('Harvard', 'NNP'),\n",
       " ('and', 'CC'),\n",
       " ('Stanford', 'NNP'),\n",
       " ('to', 'TO'),\n",
       " ('recruit', 'VB'),\n",
       " ('engineers', 'NNS'),\n",
       " ('for', 'IN'),\n",
       " ('their', 'PRP$'),\n",
       " ('first', 'JJ'),\n",
       " ('post-university', 'NN'),\n",
       " ('jobs', 'NNS'),\n",
       " ('.', '.')]"
      ]
     },
     "execution_count": 80,
     "metadata": {},
     "output_type": "execute_result"
    }
   ],
   "source": [
    "nltk.pos_tag(nltk_tokens)"
   ]
  },
  {
   "cell_type": "markdown",
   "metadata": {},
   "source": [
    "# Word Normalization: Stemming and Lemmatization\n",
    "[Read more](https://nlp.stanford.edu/IR-book/html/htmledition/stemming-and-lemmatization-1.html)"
   ]
  },
  {
   "cell_type": "markdown",
   "metadata": {},
   "source": [
    "##### spaCy"
   ]
  },
  {
   "cell_type": "markdown",
   "metadata": {},
   "source": [
    "spaCy doesn't support stemming, but lemmatization (like everything else) is already built in."
   ]
  },
  {
   "cell_type": "code",
   "execution_count": 82,
   "metadata": {},
   "outputs": [
    {
     "data": {
      "text/plain": [
       "[(Each, 'LEMMA:', 'each'),\n",
       " (autumn, 'LEMMA:', 'autumn'),\n",
       " (,, 'LEMMA:', ','),\n",
       " (businesses, 'LEMMA:', 'business'),\n",
       " (flock, 'LEMMA:', 'flock'),\n",
       " (to, 'LEMMA:', 'to'),\n",
       " (elite, 'LEMMA:', 'elite'),\n",
       " (universities, 'LEMMA:', 'university'),\n",
       " (like, 'LEMMA:', 'like'),\n",
       " (Harvard, 'LEMMA:', 'harvard'),\n",
       " (and, 'LEMMA:', 'and'),\n",
       " (Stanford, 'LEMMA:', 'stanford'),\n",
       " (to, 'LEMMA:', 'to'),\n",
       " (recruit, 'LEMMA:', 'recruit'),\n",
       " (engineers, 'LEMMA:', 'engineer'),\n",
       " (for, 'LEMMA:', 'for'),\n",
       " (their, 'LEMMA:', '-PRON-'),\n",
       " (first, 'LEMMA:', 'first'),\n",
       " (post, 'LEMMA:', 'post'),\n",
       " (-, 'LEMMA:', '-'),\n",
       " (university, 'LEMMA:', 'university'),\n",
       " (jobs, 'LEMMA:', 'job'),\n",
       " (., 'LEMMA:', '.')]"
      ]
     },
     "execution_count": 82,
     "metadata": {},
     "output_type": "execute_result"
    }
   ],
   "source": [
    "[(t, 'LEMMA:', t.lemma_) for t in spacy_sents[0]]"
   ]
  },
  {
   "cell_type": "markdown",
   "metadata": {},
   "source": [
    "##### NLTK"
   ]
  },
  {
   "cell_type": "markdown",
   "metadata": {},
   "source": [
    "NLTK has multiple stemmers that you can use."
   ]
  },
  {
   "cell_type": "code",
   "execution_count": 85,
   "metadata": {},
   "outputs": [],
   "source": [
    "from nltk.stem import LancasterStemmer, PorterStemmer, SnowballStemmer"
   ]
  },
  {
   "cell_type": "code",
   "execution_count": 88,
   "metadata": {},
   "outputs": [],
   "source": [
    "lancaster_stem = LancasterStemmer()\n",
    "porter_stem = PorterStemmer()\n",
    "snowball_stem = SnowballStemmer('english')"
   ]
  },
  {
   "cell_type": "code",
   "execution_count": 91,
   "metadata": {},
   "outputs": [
    {
     "name": "stdout",
     "output_type": "stream",
     "text": [
      "token: Each ---  Lancaster: each  |  Porter: each  |  Snowball: each\n",
      "token: autumn ---  Lancaster: autumn  |  Porter: autumn  |  Snowball: autumn\n",
      "token: , ---  Lancaster: ,  |  Porter: ,  |  Snowball: ,\n",
      "token: businesses ---  Lancaster: busy  |  Porter: busi  |  Snowball: busi\n",
      "token: flock ---  Lancaster: flock  |  Porter: flock  |  Snowball: flock\n",
      "token: to ---  Lancaster: to  |  Porter: to  |  Snowball: to\n",
      "token: elite ---  Lancaster: elit  |  Porter: elit  |  Snowball: elit\n",
      "token: universities ---  Lancaster: univers  |  Porter: univers  |  Snowball: univers\n",
      "token: like ---  Lancaster: lik  |  Porter: like  |  Snowball: like\n",
      "token: Harvard ---  Lancaster: harvard  |  Porter: harvard  |  Snowball: harvard\n",
      "token: and ---  Lancaster: and  |  Porter: and  |  Snowball: and\n",
      "token: Stanford ---  Lancaster: stanford  |  Porter: stanford  |  Snowball: stanford\n",
      "token: to ---  Lancaster: to  |  Porter: to  |  Snowball: to\n",
      "token: recruit ---  Lancaster: recruit  |  Porter: recruit  |  Snowball: recruit\n",
      "token: engineers ---  Lancaster: engin  |  Porter: engin  |  Snowball: engin\n",
      "token: for ---  Lancaster: for  |  Porter: for  |  Snowball: for\n",
      "token: their ---  Lancaster: their  |  Porter: their  |  Snowball: their\n",
      "token: first ---  Lancaster: first  |  Porter: first  |  Snowball: first\n",
      "token: post-university ---  Lancaster: post-university  |  Porter: post-univers  |  Snowball: post-univers\n",
      "token: jobs ---  Lancaster: job  |  Porter: job  |  Snowball: job\n",
      "token: . ---  Lancaster: .  |  Porter: .  |  Snowball: .\n"
     ]
    }
   ],
   "source": [
    "for token in nltk_tokens:\n",
    "    print('token: {} ---  Lancaster: {}  |  Porter: {}  |  Snowball: {}'.format(token, lancaster_stem.stem(token), porter_stem.stem(token), snowball_stem.stem(token)))"
   ]
  },
  {
   "cell_type": "markdown",
   "metadata": {},
   "source": [
    "# Analyzing Sentence Structure"
   ]
  },
  {
   "cell_type": "markdown",
   "metadata": {},
   "source": [
    "There are two main approaches to analyzing sentence structure: Dependency-based and Constituency-based<br>\n",
    "From [Wikipedia](https://en.wikipedia.org/wiki/Dependency_grammar#Dependency_vs._constituency):<br>\n",
    "\"Dependency is a one-to-one correspondence: for every element (e.g. word or morph) in the sentence, there is exactly one node in the structure of that sentence that corresponds to that element. The result of this one-to-one correspondence is that dependency grammars are word (or morph) grammars. All that exist are the elements and the dependencies that connect the elements into a structure. This situation should be compared with the constituency relation of phrase structure grammars. Constituency is a one-to-one-or-more correspondence, which means that, for every element in a sentence, there are one or more nodes in the structure that correspond to that element. The result of this difference is that dependency structures are minimal[7] compared to their constituency structure counterparts, since they tend to contain much fewer nodes.\""
   ]
  },
  {
   "cell_type": "markdown",
   "metadata": {},
   "source": [
    "##### spaCy"
   ]
  },
  {
   "cell_type": "markdown",
   "metadata": {},
   "source": [
    "spaCy supports dependency parsing for analyzing sentence structure."
   ]
  },
  {
   "cell_type": "code",
   "execution_count": 92,
   "metadata": {},
   "outputs": [
    {
     "data": {
      "text/plain": [
       "[(Each, 'det', autumn),\n",
       " (autumn, 'npadvmod', flock),\n",
       " (,, 'punct', flock),\n",
       " (businesses, 'nsubj', flock),\n",
       " (flock, 'ROOT', flock),\n",
       " (to, 'aux', elite),\n",
       " (elite, 'advcl', flock),\n",
       " (universities, 'dobj', elite),\n",
       " (like, 'prep', universities),\n",
       " (Harvard, 'pobj', like),\n",
       " (and, 'cc', Harvard),\n",
       " (Stanford, 'conj', Harvard),\n",
       " (to, 'aux', recruit),\n",
       " (recruit, 'xcomp', elite),\n",
       " (engineers, 'dobj', recruit),\n",
       " (for, 'prep', engineers),\n",
       " (their, 'poss', jobs),\n",
       " (first, 'amod', jobs),\n",
       " (post, 'compound', university),\n",
       " (-, 'punct', university),\n",
       " (university, 'compound', jobs),\n",
       " (jobs, 'pobj', for),\n",
       " (., 'punct', flock)]"
      ]
     },
     "execution_count": 92,
     "metadata": {},
     "output_type": "execute_result"
    }
   ],
   "source": [
    "# already built in\n",
    "[(t, t.dep_, t.head) for t in spacy_sents[0]]"
   ]
  },
  {
   "cell_type": "code",
   "execution_count": 93,
   "metadata": {},
   "outputs": [],
   "source": [
    "from spacy import displacy"
   ]
  },
  {
   "cell_type": "code",
   "execution_count": 100,
   "metadata": {},
   "outputs": [
    {
     "name": "stdout",
     "output_type": "stream",
     "text": [
      "<class 'spacy.tokens.span.Span'>\n"
     ]
    }
   ],
   "source": [
    "# you can convert a sentence Span object to a doc like this\n",
    "sent_span = spacy_sents[0]\n",
    "print(type(sent_span))\n",
    "sent_doc = sent_span.as_doc()"
   ]
  },
  {
   "cell_type": "code",
   "execution_count": 103,
   "metadata": {},
   "outputs": [
    {
     "name": "stderr",
     "output_type": "stream",
     "text": [
      "C:\\Users\\peluc\\Anaconda3\\envs\\nlp\\lib\\runpy.py:193: DeprecationWarning: Positional arguments to Doc.merge are deprecated. Instead, use the keyword arguments, for example tag=, lemma= or ent_type=.\n",
      "  \"__main__\", mod_spec)\n",
      "C:\\Users\\peluc\\Anaconda3\\envs\\nlp\\lib\\runpy.py:193: DeprecationWarning: Positional arguments to Doc.merge are deprecated. Instead, use the keyword arguments, for example tag=, lemma= or ent_type=.\n",
      "  \"__main__\", mod_spec)\n",
      "C:\\Users\\peluc\\Anaconda3\\envs\\nlp\\lib\\runpy.py:193: DeprecationWarning: Positional arguments to Doc.merge are deprecated. Instead, use the keyword arguments, for example tag=, lemma= or ent_type=.\n",
      "  \"__main__\", mod_spec)\n"
     ]
    },
    {
     "data": {
      "text/html": [
       "<svg xmlns=\"http://www.w3.org/2000/svg\" xmlns:xlink=\"http://www.w3.org/1999/xlink\" id=\"0\" class=\"displacy\" width=\"2450\" height=\"497.0\" style=\"max-width: none; height: 497.0px; color: #000000; background: #ffffff; font-family: Arial\">\n",
       "<text class=\"displacy-token\" fill=\"currentColor\" text-anchor=\"middle\" y=\"407.0\">\n",
       "    <tspan class=\"displacy-word\" fill=\"currentColor\" x=\"50\">Each</tspan>\n",
       "    <tspan class=\"displacy-tag\" dy=\"2em\" fill=\"currentColor\" x=\"50\">DET</tspan>\n",
       "</text>\n",
       "\n",
       "<text class=\"displacy-token\" fill=\"currentColor\" text-anchor=\"middle\" y=\"407.0\">\n",
       "    <tspan class=\"displacy-word\" fill=\"currentColor\" x=\"170\">autumn,</tspan>\n",
       "    <tspan class=\"displacy-tag\" dy=\"2em\" fill=\"currentColor\" x=\"170\">NOUN</tspan>\n",
       "</text>\n",
       "\n",
       "<text class=\"displacy-token\" fill=\"currentColor\" text-anchor=\"middle\" y=\"407.0\">\n",
       "    <tspan class=\"displacy-word\" fill=\"currentColor\" x=\"290\">businesses</tspan>\n",
       "    <tspan class=\"displacy-tag\" dy=\"2em\" fill=\"currentColor\" x=\"290\">NOUN</tspan>\n",
       "</text>\n",
       "\n",
       "<text class=\"displacy-token\" fill=\"currentColor\" text-anchor=\"middle\" y=\"407.0\">\n",
       "    <tspan class=\"displacy-word\" fill=\"currentColor\" x=\"410\">flock</tspan>\n",
       "    <tspan class=\"displacy-tag\" dy=\"2em\" fill=\"currentColor\" x=\"410\">NOUN</tspan>\n",
       "</text>\n",
       "\n",
       "<text class=\"displacy-token\" fill=\"currentColor\" text-anchor=\"middle\" y=\"407.0\">\n",
       "    <tspan class=\"displacy-word\" fill=\"currentColor\" x=\"530\">to</tspan>\n",
       "    <tspan class=\"displacy-tag\" dy=\"2em\" fill=\"currentColor\" x=\"530\">ADP</tspan>\n",
       "</text>\n",
       "\n",
       "<text class=\"displacy-token\" fill=\"currentColor\" text-anchor=\"middle\" y=\"407.0\">\n",
       "    <tspan class=\"displacy-word\" fill=\"currentColor\" x=\"650\">elite</tspan>\n",
       "    <tspan class=\"displacy-tag\" dy=\"2em\" fill=\"currentColor\" x=\"650\">ADJ</tspan>\n",
       "</text>\n",
       "\n",
       "<text class=\"displacy-token\" fill=\"currentColor\" text-anchor=\"middle\" y=\"407.0\">\n",
       "    <tspan class=\"displacy-word\" fill=\"currentColor\" x=\"770\">universities</tspan>\n",
       "    <tspan class=\"displacy-tag\" dy=\"2em\" fill=\"currentColor\" x=\"770\">NOUN</tspan>\n",
       "</text>\n",
       "\n",
       "<text class=\"displacy-token\" fill=\"currentColor\" text-anchor=\"middle\" y=\"407.0\">\n",
       "    <tspan class=\"displacy-word\" fill=\"currentColor\" x=\"890\">like</tspan>\n",
       "    <tspan class=\"displacy-tag\" dy=\"2em\" fill=\"currentColor\" x=\"890\">ADP</tspan>\n",
       "</text>\n",
       "\n",
       "<text class=\"displacy-token\" fill=\"currentColor\" text-anchor=\"middle\" y=\"407.0\">\n",
       "    <tspan class=\"displacy-word\" fill=\"currentColor\" x=\"1010\">Harvard</tspan>\n",
       "    <tspan class=\"displacy-tag\" dy=\"2em\" fill=\"currentColor\" x=\"1010\">PROPN</tspan>\n",
       "</text>\n",
       "\n",
       "<text class=\"displacy-token\" fill=\"currentColor\" text-anchor=\"middle\" y=\"407.0\">\n",
       "    <tspan class=\"displacy-word\" fill=\"currentColor\" x=\"1130\">and</tspan>\n",
       "    <tspan class=\"displacy-tag\" dy=\"2em\" fill=\"currentColor\" x=\"1130\">CCONJ</tspan>\n",
       "</text>\n",
       "\n",
       "<text class=\"displacy-token\" fill=\"currentColor\" text-anchor=\"middle\" y=\"407.0\">\n",
       "    <tspan class=\"displacy-word\" fill=\"currentColor\" x=\"1250\">Stanford</tspan>\n",
       "    <tspan class=\"displacy-tag\" dy=\"2em\" fill=\"currentColor\" x=\"1250\">PROPN</tspan>\n",
       "</text>\n",
       "\n",
       "<text class=\"displacy-token\" fill=\"currentColor\" text-anchor=\"middle\" y=\"407.0\">\n",
       "    <tspan class=\"displacy-word\" fill=\"currentColor\" x=\"1370\">to</tspan>\n",
       "    <tspan class=\"displacy-tag\" dy=\"2em\" fill=\"currentColor\" x=\"1370\">PART</tspan>\n",
       "</text>\n",
       "\n",
       "<text class=\"displacy-token\" fill=\"currentColor\" text-anchor=\"middle\" y=\"407.0\">\n",
       "    <tspan class=\"displacy-word\" fill=\"currentColor\" x=\"1490\">recruit</tspan>\n",
       "    <tspan class=\"displacy-tag\" dy=\"2em\" fill=\"currentColor\" x=\"1490\">VERB</tspan>\n",
       "</text>\n",
       "\n",
       "<text class=\"displacy-token\" fill=\"currentColor\" text-anchor=\"middle\" y=\"407.0\">\n",
       "    <tspan class=\"displacy-word\" fill=\"currentColor\" x=\"1610\">engineers</tspan>\n",
       "    <tspan class=\"displacy-tag\" dy=\"2em\" fill=\"currentColor\" x=\"1610\">NOUN</tspan>\n",
       "</text>\n",
       "\n",
       "<text class=\"displacy-token\" fill=\"currentColor\" text-anchor=\"middle\" y=\"407.0\">\n",
       "    <tspan class=\"displacy-word\" fill=\"currentColor\" x=\"1730\">for</tspan>\n",
       "    <tspan class=\"displacy-tag\" dy=\"2em\" fill=\"currentColor\" x=\"1730\">ADP</tspan>\n",
       "</text>\n",
       "\n",
       "<text class=\"displacy-token\" fill=\"currentColor\" text-anchor=\"middle\" y=\"407.0\">\n",
       "    <tspan class=\"displacy-word\" fill=\"currentColor\" x=\"1850\">their</tspan>\n",
       "    <tspan class=\"displacy-tag\" dy=\"2em\" fill=\"currentColor\" x=\"1850\">ADJ</tspan>\n",
       "</text>\n",
       "\n",
       "<text class=\"displacy-token\" fill=\"currentColor\" text-anchor=\"middle\" y=\"407.0\">\n",
       "    <tspan class=\"displacy-word\" fill=\"currentColor\" x=\"1970\">first</tspan>\n",
       "    <tspan class=\"displacy-tag\" dy=\"2em\" fill=\"currentColor\" x=\"1970\">ADJ</tspan>\n",
       "</text>\n",
       "\n",
       "<text class=\"displacy-token\" fill=\"currentColor\" text-anchor=\"middle\" y=\"407.0\">\n",
       "    <tspan class=\"displacy-word\" fill=\"currentColor\" x=\"2090\">post-</tspan>\n",
       "    <tspan class=\"displacy-tag\" dy=\"2em\" fill=\"currentColor\" x=\"2090\">NOUN</tspan>\n",
       "</text>\n",
       "\n",
       "<text class=\"displacy-token\" fill=\"currentColor\" text-anchor=\"middle\" y=\"407.0\">\n",
       "    <tspan class=\"displacy-word\" fill=\"currentColor\" x=\"2210\">university</tspan>\n",
       "    <tspan class=\"displacy-tag\" dy=\"2em\" fill=\"currentColor\" x=\"2210\">NOUN</tspan>\n",
       "</text>\n",
       "\n",
       "<text class=\"displacy-token\" fill=\"currentColor\" text-anchor=\"middle\" y=\"407.0\">\n",
       "    <tspan class=\"displacy-word\" fill=\"currentColor\" x=\"2330\">jobs.</tspan>\n",
       "    <tspan class=\"displacy-tag\" dy=\"2em\" fill=\"currentColor\" x=\"2330\">NOUN</tspan>\n",
       "</text>\n",
       "\n",
       "<g class=\"displacy-arrow\">\n",
       "    <path class=\"displacy-arc\" id=\"arrow-0-0\" stroke-width=\"2px\" d=\"M70,362.0 C70,302.0 145.0,302.0 145.0,362.0\" fill=\"none\" stroke=\"currentColor\"/>\n",
       "    <text dy=\"1.25em\" style=\"font-size: 0.8em; letter-spacing: 1px\">\n",
       "        <textPath xlink:href=\"#arrow-0-0\" class=\"displacy-label\" startOffset=\"50%\" fill=\"currentColor\" text-anchor=\"middle\">det</textPath>\n",
       "    </text>\n",
       "    <path class=\"displacy-arrowhead\" d=\"M70,364.0 L62,352.0 78,352.0\" fill=\"currentColor\"/>\n",
       "</g>\n",
       "\n",
       "<g class=\"displacy-arrow\">\n",
       "    <path class=\"displacy-arc\" id=\"arrow-0-1\" stroke-width=\"2px\" d=\"M190,362.0 C190,242.0 390.0,242.0 390.0,362.0\" fill=\"none\" stroke=\"currentColor\"/>\n",
       "    <text dy=\"1.25em\" style=\"font-size: 0.8em; letter-spacing: 1px\">\n",
       "        <textPath xlink:href=\"#arrow-0-1\" class=\"displacy-label\" startOffset=\"50%\" fill=\"currentColor\" text-anchor=\"middle\">npadvmod</textPath>\n",
       "    </text>\n",
       "    <path class=\"displacy-arrowhead\" d=\"M190,364.0 L182,352.0 198,352.0\" fill=\"currentColor\"/>\n",
       "</g>\n",
       "\n",
       "<g class=\"displacy-arrow\">\n",
       "    <path class=\"displacy-arc\" id=\"arrow-0-2\" stroke-width=\"2px\" d=\"M310,362.0 C310,302.0 385.0,302.0 385.0,362.0\" fill=\"none\" stroke=\"currentColor\"/>\n",
       "    <text dy=\"1.25em\" style=\"font-size: 0.8em; letter-spacing: 1px\">\n",
       "        <textPath xlink:href=\"#arrow-0-2\" class=\"displacy-label\" startOffset=\"50%\" fill=\"currentColor\" text-anchor=\"middle\">nsubj</textPath>\n",
       "    </text>\n",
       "    <path class=\"displacy-arrowhead\" d=\"M310,364.0 L302,352.0 318,352.0\" fill=\"currentColor\"/>\n",
       "</g>\n",
       "\n",
       "<g class=\"displacy-arrow\">\n",
       "    <path class=\"displacy-arc\" id=\"arrow-0-3\" stroke-width=\"2px\" d=\"M550,362.0 C550,302.0 625.0,302.0 625.0,362.0\" fill=\"none\" stroke=\"currentColor\"/>\n",
       "    <text dy=\"1.25em\" style=\"font-size: 0.8em; letter-spacing: 1px\">\n",
       "        <textPath xlink:href=\"#arrow-0-3\" class=\"displacy-label\" startOffset=\"50%\" fill=\"currentColor\" text-anchor=\"middle\">aux</textPath>\n",
       "    </text>\n",
       "    <path class=\"displacy-arrowhead\" d=\"M550,364.0 L542,352.0 558,352.0\" fill=\"currentColor\"/>\n",
       "</g>\n",
       "\n",
       "<g class=\"displacy-arrow\">\n",
       "    <path class=\"displacy-arc\" id=\"arrow-0-4\" stroke-width=\"2px\" d=\"M430,362.0 C430,242.0 630.0,242.0 630.0,362.0\" fill=\"none\" stroke=\"currentColor\"/>\n",
       "    <text dy=\"1.25em\" style=\"font-size: 0.8em; letter-spacing: 1px\">\n",
       "        <textPath xlink:href=\"#arrow-0-4\" class=\"displacy-label\" startOffset=\"50%\" fill=\"currentColor\" text-anchor=\"middle\">advcl</textPath>\n",
       "    </text>\n",
       "    <path class=\"displacy-arrowhead\" d=\"M630.0,364.0 L638.0,352.0 622.0,352.0\" fill=\"currentColor\"/>\n",
       "</g>\n",
       "\n",
       "<g class=\"displacy-arrow\">\n",
       "    <path class=\"displacy-arc\" id=\"arrow-0-5\" stroke-width=\"2px\" d=\"M670,362.0 C670,302.0 745.0,302.0 745.0,362.0\" fill=\"none\" stroke=\"currentColor\"/>\n",
       "    <text dy=\"1.25em\" style=\"font-size: 0.8em; letter-spacing: 1px\">\n",
       "        <textPath xlink:href=\"#arrow-0-5\" class=\"displacy-label\" startOffset=\"50%\" fill=\"currentColor\" text-anchor=\"middle\">dobj</textPath>\n",
       "    </text>\n",
       "    <path class=\"displacy-arrowhead\" d=\"M745.0,364.0 L753.0,352.0 737.0,352.0\" fill=\"currentColor\"/>\n",
       "</g>\n",
       "\n",
       "<g class=\"displacy-arrow\">\n",
       "    <path class=\"displacy-arc\" id=\"arrow-0-6\" stroke-width=\"2px\" d=\"M790,362.0 C790,302.0 865.0,302.0 865.0,362.0\" fill=\"none\" stroke=\"currentColor\"/>\n",
       "    <text dy=\"1.25em\" style=\"font-size: 0.8em; letter-spacing: 1px\">\n",
       "        <textPath xlink:href=\"#arrow-0-6\" class=\"displacy-label\" startOffset=\"50%\" fill=\"currentColor\" text-anchor=\"middle\">prep</textPath>\n",
       "    </text>\n",
       "    <path class=\"displacy-arrowhead\" d=\"M865.0,364.0 L873.0,352.0 857.0,352.0\" fill=\"currentColor\"/>\n",
       "</g>\n",
       "\n",
       "<g class=\"displacy-arrow\">\n",
       "    <path class=\"displacy-arc\" id=\"arrow-0-7\" stroke-width=\"2px\" d=\"M910,362.0 C910,302.0 985.0,302.0 985.0,362.0\" fill=\"none\" stroke=\"currentColor\"/>\n",
       "    <text dy=\"1.25em\" style=\"font-size: 0.8em; letter-spacing: 1px\">\n",
       "        <textPath xlink:href=\"#arrow-0-7\" class=\"displacy-label\" startOffset=\"50%\" fill=\"currentColor\" text-anchor=\"middle\">pobj</textPath>\n",
       "    </text>\n",
       "    <path class=\"displacy-arrowhead\" d=\"M985.0,364.0 L993.0,352.0 977.0,352.0\" fill=\"currentColor\"/>\n",
       "</g>\n",
       "\n",
       "<g class=\"displacy-arrow\">\n",
       "    <path class=\"displacy-arc\" id=\"arrow-0-8\" stroke-width=\"2px\" d=\"M1030,362.0 C1030,302.0 1105.0,302.0 1105.0,362.0\" fill=\"none\" stroke=\"currentColor\"/>\n",
       "    <text dy=\"1.25em\" style=\"font-size: 0.8em; letter-spacing: 1px\">\n",
       "        <textPath xlink:href=\"#arrow-0-8\" class=\"displacy-label\" startOffset=\"50%\" fill=\"currentColor\" text-anchor=\"middle\">cc</textPath>\n",
       "    </text>\n",
       "    <path class=\"displacy-arrowhead\" d=\"M1105.0,364.0 L1113.0,352.0 1097.0,352.0\" fill=\"currentColor\"/>\n",
       "</g>\n",
       "\n",
       "<g class=\"displacy-arrow\">\n",
       "    <path class=\"displacy-arc\" id=\"arrow-0-9\" stroke-width=\"2px\" d=\"M1030,362.0 C1030,242.0 1230.0,242.0 1230.0,362.0\" fill=\"none\" stroke=\"currentColor\"/>\n",
       "    <text dy=\"1.25em\" style=\"font-size: 0.8em; letter-spacing: 1px\">\n",
       "        <textPath xlink:href=\"#arrow-0-9\" class=\"displacy-label\" startOffset=\"50%\" fill=\"currentColor\" text-anchor=\"middle\">conj</textPath>\n",
       "    </text>\n",
       "    <path class=\"displacy-arrowhead\" d=\"M1230.0,364.0 L1238.0,352.0 1222.0,352.0\" fill=\"currentColor\"/>\n",
       "</g>\n",
       "\n",
       "<g class=\"displacy-arrow\">\n",
       "    <path class=\"displacy-arc\" id=\"arrow-0-10\" stroke-width=\"2px\" d=\"M1390,362.0 C1390,302.0 1465.0,302.0 1465.0,362.0\" fill=\"none\" stroke=\"currentColor\"/>\n",
       "    <text dy=\"1.25em\" style=\"font-size: 0.8em; letter-spacing: 1px\">\n",
       "        <textPath xlink:href=\"#arrow-0-10\" class=\"displacy-label\" startOffset=\"50%\" fill=\"currentColor\" text-anchor=\"middle\">aux</textPath>\n",
       "    </text>\n",
       "    <path class=\"displacy-arrowhead\" d=\"M1390,364.0 L1382,352.0 1398,352.0\" fill=\"currentColor\"/>\n",
       "</g>\n",
       "\n",
       "<g class=\"displacy-arrow\">\n",
       "    <path class=\"displacy-arc\" id=\"arrow-0-11\" stroke-width=\"2px\" d=\"M670,362.0 C670,2.0 1490.0,2.0 1490.0,362.0\" fill=\"none\" stroke=\"currentColor\"/>\n",
       "    <text dy=\"1.25em\" style=\"font-size: 0.8em; letter-spacing: 1px\">\n",
       "        <textPath xlink:href=\"#arrow-0-11\" class=\"displacy-label\" startOffset=\"50%\" fill=\"currentColor\" text-anchor=\"middle\">xcomp</textPath>\n",
       "    </text>\n",
       "    <path class=\"displacy-arrowhead\" d=\"M1490.0,364.0 L1498.0,352.0 1482.0,352.0\" fill=\"currentColor\"/>\n",
       "</g>\n",
       "\n",
       "<g class=\"displacy-arrow\">\n",
       "    <path class=\"displacy-arc\" id=\"arrow-0-12\" stroke-width=\"2px\" d=\"M1510,362.0 C1510,302.0 1585.0,302.0 1585.0,362.0\" fill=\"none\" stroke=\"currentColor\"/>\n",
       "    <text dy=\"1.25em\" style=\"font-size: 0.8em; letter-spacing: 1px\">\n",
       "        <textPath xlink:href=\"#arrow-0-12\" class=\"displacy-label\" startOffset=\"50%\" fill=\"currentColor\" text-anchor=\"middle\">dobj</textPath>\n",
       "    </text>\n",
       "    <path class=\"displacy-arrowhead\" d=\"M1585.0,364.0 L1593.0,352.0 1577.0,352.0\" fill=\"currentColor\"/>\n",
       "</g>\n",
       "\n",
       "<g class=\"displacy-arrow\">\n",
       "    <path class=\"displacy-arc\" id=\"arrow-0-13\" stroke-width=\"2px\" d=\"M1630,362.0 C1630,302.0 1705.0,302.0 1705.0,362.0\" fill=\"none\" stroke=\"currentColor\"/>\n",
       "    <text dy=\"1.25em\" style=\"font-size: 0.8em; letter-spacing: 1px\">\n",
       "        <textPath xlink:href=\"#arrow-0-13\" class=\"displacy-label\" startOffset=\"50%\" fill=\"currentColor\" text-anchor=\"middle\">prep</textPath>\n",
       "    </text>\n",
       "    <path class=\"displacy-arrowhead\" d=\"M1705.0,364.0 L1713.0,352.0 1697.0,352.0\" fill=\"currentColor\"/>\n",
       "</g>\n",
       "\n",
       "<g class=\"displacy-arrow\">\n",
       "    <path class=\"displacy-arc\" id=\"arrow-0-14\" stroke-width=\"2px\" d=\"M1870,362.0 C1870,122.0 2320.0,122.0 2320.0,362.0\" fill=\"none\" stroke=\"currentColor\"/>\n",
       "    <text dy=\"1.25em\" style=\"font-size: 0.8em; letter-spacing: 1px\">\n",
       "        <textPath xlink:href=\"#arrow-0-14\" class=\"displacy-label\" startOffset=\"50%\" fill=\"currentColor\" text-anchor=\"middle\">poss</textPath>\n",
       "    </text>\n",
       "    <path class=\"displacy-arrowhead\" d=\"M1870,364.0 L1862,352.0 1878,352.0\" fill=\"currentColor\"/>\n",
       "</g>\n",
       "\n",
       "<g class=\"displacy-arrow\">\n",
       "    <path class=\"displacy-arc\" id=\"arrow-0-15\" stroke-width=\"2px\" d=\"M1990,362.0 C1990,182.0 2315.0,182.0 2315.0,362.0\" fill=\"none\" stroke=\"currentColor\"/>\n",
       "    <text dy=\"1.25em\" style=\"font-size: 0.8em; letter-spacing: 1px\">\n",
       "        <textPath xlink:href=\"#arrow-0-15\" class=\"displacy-label\" startOffset=\"50%\" fill=\"currentColor\" text-anchor=\"middle\">amod</textPath>\n",
       "    </text>\n",
       "    <path class=\"displacy-arrowhead\" d=\"M1990,364.0 L1982,352.0 1998,352.0\" fill=\"currentColor\"/>\n",
       "</g>\n",
       "\n",
       "<g class=\"displacy-arrow\">\n",
       "    <path class=\"displacy-arc\" id=\"arrow-0-16\" stroke-width=\"2px\" d=\"M2110,362.0 C2110,302.0 2185.0,302.0 2185.0,362.0\" fill=\"none\" stroke=\"currentColor\"/>\n",
       "    <text dy=\"1.25em\" style=\"font-size: 0.8em; letter-spacing: 1px\">\n",
       "        <textPath xlink:href=\"#arrow-0-16\" class=\"displacy-label\" startOffset=\"50%\" fill=\"currentColor\" text-anchor=\"middle\">compound</textPath>\n",
       "    </text>\n",
       "    <path class=\"displacy-arrowhead\" d=\"M2110,364.0 L2102,352.0 2118,352.0\" fill=\"currentColor\"/>\n",
       "</g>\n",
       "\n",
       "<g class=\"displacy-arrow\">\n",
       "    <path class=\"displacy-arc\" id=\"arrow-0-17\" stroke-width=\"2px\" d=\"M2230,362.0 C2230,302.0 2305.0,302.0 2305.0,362.0\" fill=\"none\" stroke=\"currentColor\"/>\n",
       "    <text dy=\"1.25em\" style=\"font-size: 0.8em; letter-spacing: 1px\">\n",
       "        <textPath xlink:href=\"#arrow-0-17\" class=\"displacy-label\" startOffset=\"50%\" fill=\"currentColor\" text-anchor=\"middle\">compound</textPath>\n",
       "    </text>\n",
       "    <path class=\"displacy-arrowhead\" d=\"M2230,364.0 L2222,352.0 2238,352.0\" fill=\"currentColor\"/>\n",
       "</g>\n",
       "\n",
       "<g class=\"displacy-arrow\">\n",
       "    <path class=\"displacy-arc\" id=\"arrow-0-18\" stroke-width=\"2px\" d=\"M1750,362.0 C1750,62.0 2325.0,62.0 2325.0,362.0\" fill=\"none\" stroke=\"currentColor\"/>\n",
       "    <text dy=\"1.25em\" style=\"font-size: 0.8em; letter-spacing: 1px\">\n",
       "        <textPath xlink:href=\"#arrow-0-18\" class=\"displacy-label\" startOffset=\"50%\" fill=\"currentColor\" text-anchor=\"middle\">pobj</textPath>\n",
       "    </text>\n",
       "    <path class=\"displacy-arrowhead\" d=\"M2325.0,364.0 L2333.0,352.0 2317.0,352.0\" fill=\"currentColor\"/>\n",
       "</g>\n",
       "</svg>"
      ],
      "text/plain": [
       "<IPython.core.display.HTML object>"
      ]
     },
     "metadata": {},
     "output_type": "display_data"
    }
   ],
   "source": [
    "displacy.render(sent_doc, style='dep', jupyter=True, options={'distance': 120})"
   ]
  },
  {
   "cell_type": "markdown",
   "metadata": {},
   "source": [
    "##### NLTK"
   ]
  },
  {
   "cell_type": "markdown",
   "metadata": {},
   "source": [
    "NLTK can perform both types. However, they require you to define your own grammars, which is outside of the scope of this course. NLTK also provides support for using Stanford's CoreNLP software to perform dependency and constituency parsing."
   ]
  },
  {
   "cell_type": "code",
   "execution_count": 104,
   "metadata": {},
   "outputs": [
    {
     "ename": "TypeError",
     "evalue": "__init__() missing 1 required positional argument: 'productions'",
     "output_type": "error",
     "traceback": [
      "\u001b[1;31m---------------------------------------------------------------------------\u001b[0m",
      "\u001b[1;31mTypeError\u001b[0m                                 Traceback (most recent call last)",
      "\u001b[1;32m<ipython-input-104-210c74905a12>\u001b[0m in \u001b[0;36m<module>\u001b[1;34m()\u001b[0m\n\u001b[1;32m----> 1\u001b[1;33m \u001b[0mnltk\u001b[0m\u001b[1;33m.\u001b[0m\u001b[0mCFG\u001b[0m\u001b[1;33m(\u001b[0m\u001b[0mnltk_sents\u001b[0m\u001b[1;33m[\u001b[0m\u001b[1;36m0\u001b[0m\u001b[1;33m]\u001b[0m\u001b[1;33m)\u001b[0m\u001b[1;33m\u001b[0m\u001b[0m\n\u001b[0m",
      "\u001b[1;31mTypeError\u001b[0m: __init__() missing 1 required positional argument: 'productions'"
     ]
    }
   ],
   "source": [
    "nltk.CFG(nltk_sents[0])"
   ]
  },
  {
   "cell_type": "code",
   "execution_count": null,
   "metadata": {},
   "outputs": [],
   "source": []
  }
 ],
 "metadata": {
  "kernelspec": {
   "display_name": "Python 3",
   "language": "python",
   "name": "python3"
  },
  "language_info": {
   "codemirror_mode": {
    "name": "ipython",
    "version": 3
   },
   "file_extension": ".py",
   "mimetype": "text/x-python",
   "name": "python",
   "nbconvert_exporter": "python",
   "pygments_lexer": "ipython3",
   "version": "3.6.4"
  }
 },
 "nbformat": 4,
 "nbformat_minor": 2
}
